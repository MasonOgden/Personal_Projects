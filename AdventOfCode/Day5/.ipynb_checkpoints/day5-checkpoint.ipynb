{
 "cells": [
  {
   "cell_type": "markdown",
   "metadata": {},
   "source": [
    "**Reading in the file**"
   ]
  },
  {
   "cell_type": "code",
   "execution_count": 1,
   "metadata": {},
   "outputs": [],
   "source": [
    "with open('input.txt', 'r') as f:\n",
    "    info = [{'row_code': item.strip()[:7], 'col_code': item.strip()[7:]} for item in f.readlines()]"
   ]
  },
  {
   "cell_type": "markdown",
   "metadata": {},
   "source": [
    "**Function to find row**"
   ]
  },
  {
   "cell_type": "code",
   "execution_count": 2,
   "metadata": {},
   "outputs": [],
   "source": [
    "def find_row(row_code, num_rows=128):\n",
    "    \n",
    "    row_range = list(range(num_rows))\n",
    "    \n",
    "    letter_index = 0\n",
    "    while  len(row_range) > 1:\n",
    "        #print(\"{} to {}\".format(seat_range[0], seat_range[-1]))\n",
    "        #print(\"processing letter {} at position {}\".format(row_code[letter_index], letter_index))\n",
    "        if row_code[letter_index] == 'F':\n",
    "            row_range = row_range[:len(row_range) // 2]\n",
    "            letter_index += 1\n",
    "        else:\n",
    "            row_range = row_range[len(row_range) // 2:]\n",
    "            letter_index += 1\n",
    "            \n",
    "            \n",
    "    return row_range[0]"
   ]
  },
  {
   "cell_type": "markdown",
   "metadata": {},
   "source": [
    "**Testing row function**"
   ]
  },
  {
   "cell_type": "code",
   "execution_count": 3,
   "metadata": {},
   "outputs": [
    {
     "data": {
      "text/plain": [
       "44"
      ]
     },
     "execution_count": 3,
     "metadata": {},
     "output_type": "execute_result"
    }
   ],
   "source": [
    "test = 'FBFBBFF'\n",
    "find_row(test)"
   ]
  },
  {
   "cell_type": "markdown",
   "metadata": {},
   "source": [
    "**Function to find column**"
   ]
  },
  {
   "cell_type": "code",
   "execution_count": 4,
   "metadata": {},
   "outputs": [],
   "source": [
    "def find_col(col_code, num_seats=8):\n",
    "    col_range = list(range(num_seats))\n",
    "\n",
    "    letter_index = 0\n",
    "\n",
    "    while len(col_range) > 1:\n",
    "        #print(\"{} to {}\".format(col_range[0], col_range[-1]))\n",
    "        #print(\"processing letter {} at position {}\".format(col_code[letter_index], letter_index))\n",
    "\n",
    "        if col_code[letter_index] == 'L':\n",
    "            col_range = col_range[:len(col_range) // 2]\n",
    "            letter_index += 1\n",
    "\n",
    "        else:\n",
    "            col_range = col_range[len(col_range) // 2:]\n",
    "            letter_index += 1\n",
    "\n",
    "    return col_range[0]"
   ]
  },
  {
   "cell_type": "markdown",
   "metadata": {},
   "source": [
    "**Testinc column function**"
   ]
  },
  {
   "cell_type": "code",
   "execution_count": 5,
   "metadata": {},
   "outputs": [
    {
     "data": {
      "text/plain": [
       "5"
      ]
     },
     "execution_count": 5,
     "metadata": {},
     "output_type": "execute_result"
    }
   ],
   "source": [
    "col_code = 'RLR'\n",
    "find_col(col_code)"
   ]
  },
  {
   "cell_type": "markdown",
   "metadata": {},
   "source": [
    "**Seat ID function**"
   ]
  },
  {
   "cell_type": "code",
   "execution_count": 6,
   "metadata": {},
   "outputs": [],
   "source": [
    "def get_seat_id(row_num, seat_num, multiply_by=8):\n",
    "    return (row_num * multiply_by) + seat_num"
   ]
  },
  {
   "cell_type": "markdown",
   "metadata": {},
   "source": [
    "**Testing seat id function**"
   ]
  },
  {
   "cell_type": "code",
   "execution_count": 7,
   "metadata": {},
   "outputs": [
    {
     "name": "stdout",
     "output_type": "stream",
     "text": [
      "357\n",
      "567\n",
      "119\n",
      "820\n"
     ]
    }
   ],
   "source": [
    "print(get_seat_id(44, 5))\n",
    "print(get_seat_id(70, 7))\n",
    "print(get_seat_id(14, 7))\n",
    "print(get_seat_id(102, 4))"
   ]
  },
  {
   "cell_type": "markdown",
   "metadata": {},
   "source": [
    "**Answer to part 1:**\n",
    "\n",
    "What is the highest seat ID on a boarding pass?"
   ]
  },
  {
   "cell_type": "code",
   "execution_count": 8,
   "metadata": {},
   "outputs": [],
   "source": [
    "def convert_to_seat_ids(info_list):\n",
    "    return [get_seat_id(find_row(item['row_code']), find_col(item['col_code'])) for item in info_list]"
   ]
  },
  {
   "cell_type": "code",
   "execution_count": 9,
   "metadata": {},
   "outputs": [
    {
     "data": {
      "text/plain": [
       "896"
      ]
     },
     "execution_count": 9,
     "metadata": {},
     "output_type": "execute_result"
    }
   ],
   "source": [
    "all_seat_ids = convert_to_seat_ids(info)\n",
    "\n",
    "max(all_seat_ids)"
   ]
  },
  {
   "cell_type": "markdown",
   "metadata": {},
   "source": [
    "**Part 2**"
   ]
  },
  {
   "cell_type": "code",
   "execution_count": 11,
   "metadata": {},
   "outputs": [
    {
     "name": "stdout",
     "output_type": "stream",
     "text": [
      "According to the dimensions of the seating, there should by 128 * 8 = 1024 seats\n",
      "But, there are seats missing at the very front and very back of the plane, there are only 843\n"
     ]
    }
   ],
   "source": [
    "print(\"According to the dimensions of the seating, there should by 128 * 8 = {} seats\".format(128 * 8))\n",
    "print(\"But, there are seats missing at the very front and very back of the plane, there are only {}\".format(len(info)))"
   ]
  }
 ],
 "metadata": {
  "kernelspec": {
   "display_name": "Python 3",
   "language": "python",
   "name": "python3"
  },
  "language_info": {
   "codemirror_mode": {
    "name": "ipython",
    "version": 3
   },
   "file_extension": ".py",
   "mimetype": "text/x-python",
   "name": "python",
   "nbconvert_exporter": "python",
   "pygments_lexer": "ipython3",
   "version": "3.7.1"
  }
 },
 "nbformat": 4,
 "nbformat_minor": 4
}
