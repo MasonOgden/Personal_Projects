{
 "cells": [
  {
   "cell_type": "markdown",
   "metadata": {},
   "source": [
    "**Packages**"
   ]
  },
  {
   "cell_type": "code",
   "execution_count": 44,
   "metadata": {},
   "outputs": [],
   "source": [
    "import numpy as np"
   ]
  },
  {
   "cell_type": "markdown",
   "metadata": {},
   "source": [
    "**Reading in the data**"
   ]
  },
  {
   "cell_type": "code",
   "execution_count": 1,
   "metadata": {},
   "outputs": [],
   "source": [
    "with open('input_day3.txt', 'r') as f:\n",
    "    lines = [item.strip() for item in f.readlines()]"
   ]
  },
  {
   "cell_type": "markdown",
   "metadata": {},
   "source": [
    "**Describing the data**"
   ]
  },
  {
   "cell_type": "code",
   "execution_count": 7,
   "metadata": {},
   "outputs": [
    {
     "name": "stdout",
     "output_type": "stream",
     "text": [
      "initial width: 31, height: 323\n",
      "\n"
     ]
    },
    {
     "data": {
      "text/plain": [
       "['....#...#####..##.#..##..#....#',\n",
       " '..##.#.#.........#.#......##...',\n",
       " '#.#.#.##.##...#.......#...#..#.',\n",
       " '..##.............#.#.##.....#..',\n",
       " '##......#.............#....#...',\n",
       " '.....##..#.....##.#.......##..#',\n",
       " '.##.....#........##...##.#....#',\n",
       " '.##......#.#......#.....#..##.#',\n",
       " '##....#..#...#...#...##.#...##.',\n",
       " '##........##.#...##......#.#.#.']"
      ]
     },
     "execution_count": 7,
     "metadata": {},
     "output_type": "execute_result"
    }
   ],
   "source": [
    "init_width = len(lines[0])\n",
    "height = len(lines)\n",
    "\n",
    "print(\"initial width: {}, height: {}\".format(init_width, height))\n",
    "print()\n",
    "lines[0:10]"
   ]
  },
  {
   "cell_type": "markdown",
   "metadata": {},
   "source": [
    "**Function to count number of trees encountered**"
   ]
  },
  {
   "cell_type": "code",
   "execution_count": 49,
   "metadata": {},
   "outputs": [],
   "source": [
    "def count_num_trees(grid, slope_x = 3, slope_y = 1):\n",
    "    height = len(grid)\n",
    "    row = slope_y\n",
    "    col = slope_x\n",
    "\n",
    "    num_trees_encountered = 0\n",
    "\n",
    "    while row < height:\n",
    "        current_row = grid[row]\n",
    "        while col >= len(current_row):\n",
    "            current_row *= 2\n",
    "        if current_row[col] == \"#\": # if we are currently on a tree\n",
    "            num_trees_encountered += 1 # increment the number of trees that we have encountered\n",
    "\n",
    "        col += slope_x # move over 3\n",
    "        row += slope_y # move down 1\n",
    "        \n",
    "    return num_trees_encountered"
   ]
  },
  {
   "cell_type": "markdown",
   "metadata": {},
   "source": [
    "**Test case**"
   ]
  },
  {
   "cell_type": "code",
   "execution_count": 50,
   "metadata": {},
   "outputs": [],
   "source": [
    "test_grid = ['..##.........##.........##.........##.........##.........##.......',\n",
    "             '#...#...#..#...#...#..#...#...#..#...#...#..#...#...#..#...#...#..',\n",
    "             '.#....#..#..#....#..#..#....#..#..#....#..#..#....#..#..#....#..#.',\n",
    "             '..#.#...#.#..#.#...#.#..#.#...#.#..#.#...#.#..#.#...#.#..#.#...#.#',\n",
    "             '.#...##..#..#...##..#..#...##..#..#...##..#..#...##..#..#...##..#.',\n",
    "             '..#.##.......#.##.......#.##.......#.##.......#.##.......#.##.....',\n",
    "             '.#.#.#....#.#.#.#....#.#.#.#....#.#.#.#....#.#.#.#....#.#.#.#....#',\n",
    "             '.#........#.#........#.#........#.#........#.#........#.#........#',\n",
    "             '#.##...#...#.##...#...#.##...#...#.##...#...#.##...#...#.##...#...',\n",
    "             '#...##....##...##....##...##....##...##....##...##....##...##....#',\n",
    "             '.#..#...#.#.#..#...#.#.#..#...#.#.#..#...#.#.#..#...#.#.#..#...#.#']"
   ]
  },
  {
   "cell_type": "code",
   "execution_count": 51,
   "metadata": {},
   "outputs": [
    {
     "data": {
      "text/plain": [
       "7"
      ]
     },
     "execution_count": 51,
     "metadata": {},
     "output_type": "execute_result"
    }
   ],
   "source": [
    "count_num_trees(test_grid)"
   ]
  },
  {
   "cell_type": "markdown",
   "metadata": {},
   "source": [
    "**Answer to Part 1**"
   ]
  },
  {
   "cell_type": "code",
   "execution_count": 41,
   "metadata": {},
   "outputs": [
    {
     "name": "stdout",
     "output_type": "stream",
     "text": [
      "Number of trees encountered in part 1: 244\n"
     ]
    }
   ],
   "source": [
    "print(\"Number of trees encountered in part 1:\", count_num_trees(lines))"
   ]
  },
  {
   "cell_type": "markdown",
   "metadata": {},
   "source": [
    "**Part 2**"
   ]
  },
  {
   "cell_type": "code",
   "execution_count": 54,
   "metadata": {},
   "outputs": [
    {
     "data": {
      "text/plain": [
       "[90, 244, 97, 92, 48]"
      ]
     },
     "execution_count": 54,
     "metadata": {},
     "output_type": "execute_result"
    }
   ],
   "source": [
    "slopes = [(1, 1), (3, 1), (5, 1), (7, 1), (1, 2)]\n",
    "\n",
    "num_trees_list = [count_num_trees(grid=lines, slope_x=pair[0], slope_y=pair[1]) for pair in slopes]\n",
    "num_trees_list"
   ]
  },
  {
   "cell_type": "markdown",
   "metadata": {},
   "source": [
    "**Testing part 2**"
   ]
  },
  {
   "cell_type": "code",
   "execution_count": 52,
   "metadata": {},
   "outputs": [
    {
     "data": {
      "text/plain": [
       "[2, 7, 3, 4, 2]"
      ]
     },
     "execution_count": 52,
     "metadata": {},
     "output_type": "execute_result"
    }
   ],
   "source": [
    "[count_num_trees(grid=test_grid, slope_x=pair[0], slope_y=pair[1]) for pair in slopes]"
   ]
  },
  {
   "cell_type": "code",
   "execution_count": 55,
   "metadata": {},
   "outputs": [
    {
     "name": "stdout",
     "output_type": "stream",
     "text": [
      "Product of the number of trees encountered for the different slopes: 9406609920\n"
     ]
    }
   ],
   "source": [
    "print(\"Product of the number of trees encountered for the different slopes:\", np.prod(num_trees_list))"
   ]
  }
 ],
 "metadata": {
  "environment": {
   "name": "tf2-2-3-gpu.2-3.m58",
   "type": "gcloud",
   "uri": "gcr.io/deeplearning-platform-release/tf2-2-3-gpu.2-3:m58"
  },
  "kernelspec": {
   "display_name": "Python 3",
   "language": "python",
   "name": "python3"
  },
  "language_info": {
   "codemirror_mode": {
    "name": "ipython",
    "version": 3
   },
   "file_extension": ".py",
   "mimetype": "text/x-python",
   "name": "python",
   "nbconvert_exporter": "python",
   "pygments_lexer": "ipython3",
   "version": "3.7.8"
  }
 },
 "nbformat": 4,
 "nbformat_minor": 4
}
