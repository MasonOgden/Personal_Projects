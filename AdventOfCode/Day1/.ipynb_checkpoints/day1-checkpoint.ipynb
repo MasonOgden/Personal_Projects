{
 "cells": [
  {
   "cell_type": "code",
   "execution_count": 7,
   "metadata": {},
   "outputs": [],
   "source": [
    "with open('input.txt', 'r') as f:\n",
    "    nums = [int(item.strip()) for item in f.readlines()]"
   ]
  },
  {
   "cell_type": "code",
   "execution_count": 24,
   "metadata": {},
   "outputs": [
    {
     "name": "stdout",
     "output_type": "stream",
     "text": [
      "Product of the two numbers that add up to 2020: 793524\n"
     ]
    }
   ],
   "source": [
    "# part 1\n",
    "combo_set1 = set()\n",
    "for i in range(len(nums)):\n",
    "    num1 = nums[i]\n",
    "    for j in range(len(nums)):\n",
    "        num2 = nums[j]\n",
    "        if (i != j) and (num1 + num2 == 2020):\n",
    "            combo_set1.add(tuple(sorted([num1, num2])))\n",
    "            \n",
    "print(\"Product of the two numbers that add up to 2020:\", [pair[0] * pair[1] for pair in combo_set1][0])"
   ]
  },
  {
   "cell_type": "code",
   "execution_count": 25,
   "metadata": {},
   "outputs": [
    {
     "name": "stdout",
     "output_type": "stream",
     "text": [
      "Product of the three numbers that add up to 2020: 61515678\n"
     ]
    }
   ],
   "source": [
    "# part 2\n",
    "combo_set2 = set()\n",
    "for i in range(len(nums)):\n",
    "    num1 = nums[i]\n",
    "    for j in range(len(nums)):\n",
    "        num2 = nums[j]\n",
    "        for k in range(len(nums)):\n",
    "            num3 = nums[k]\n",
    "            if (i != j) and (j != k) and  (num1 + num2 + num3 == 2020):\n",
    "                combo_set2.add(tuple(sorted([num1, num2, num3])))\n",
    "                \n",
    "print(\"Product of the three numbers that add up to 2020:\", [triplet[0] * triplet[1] * triplet[2] for triplet in combo_set2][0])"
   ]
  }
 ],
 "metadata": {
  "kernelspec": {
   "display_name": "Python 3",
   "language": "python",
   "name": "python3"
  },
  "language_info": {
   "codemirror_mode": {
    "name": "ipython",
    "version": 3
   },
   "file_extension": ".py",
   "mimetype": "text/x-python",
   "name": "python",
   "nbconvert_exporter": "python",
   "pygments_lexer": "ipython3",
   "version": "3.7.1"
  }
 },
 "nbformat": 4,
 "nbformat_minor": 4
}
