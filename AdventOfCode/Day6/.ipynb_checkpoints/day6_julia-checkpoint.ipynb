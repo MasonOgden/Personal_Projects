{
 "cells": [
  {
   "cell_type": "markdown",
   "metadata": {},
   "source": [
    "**Reading in file**"
   ]
  },
  {
   "cell_type": "code",
   "execution_count": 2,
   "metadata": {},
   "outputs": [
    {
     "name": "stdout",
     "output_type": "stream",
     "text": [
      "[\"qpicundo\", \"fiqcdbkyuoz\", \"\", \"rahgpijvyfd\", \"biwvrajyp\"]"
     ]
    }
   ],
   "source": [
    "cd(\"C:/Users/mogde/Desktop/Git Repositories/Personal_Projects/AdventOfCode/Day6\")\n",
    "\n",
    "lines = open(\"input.txt\") do f\n",
    "    readlines(f)\n",
    "end\n",
    "\n",
    "print(lines[1:5])"
   ]
  },
  {
   "cell_type": "markdown",
   "metadata": {},
   "source": [
    "**Processing lines**"
   ]
  },
  {
   "cell_type": "code",
   "execution_count": 126,
   "metadata": {},
   "outputs": [
    {
     "data": {
      "text/plain": [
       "read_declaration_file (generic function with 1 method)"
      ]
     },
     "execution_count": 126,
     "metadata": {},
     "output_type": "execute_result"
    }
   ],
   "source": [
    "function read_declaration_file(filename)\n",
    "    \n",
    "    lines = open(filename) do f\n",
    "        readlines(f)\n",
    "    end\n",
    "    \n",
    "    #group_num = 0\n",
    "    line_num = 1\n",
    "    all_info = Vector{Vector}()\n",
    "\n",
    "    while line_num <= size(lines)[1]\n",
    "        #group_num += 1\n",
    "        this_group_set = Set()\n",
    "        while (line_num <=  size(lines)[1]) && (lines[line_num] != \"\")\n",
    "            letters = Set(lines[line_num])\n",
    "            this_group_set = union(this_group_set, letters)\n",
    "            line_num += 1\n",
    "        end\n",
    "        #all_info[group_num] = this_group_set\n",
    "        push!(all_info, collect(this_group_set))\n",
    "        line_num += 1\n",
    "    end\n",
    "    return all_info\n",
    "end"
   ]
  },
  {
   "cell_type": "markdown",
   "metadata": {},
   "source": [
    "**Testing reading function**"
   ]
  },
  {
   "cell_type": "code",
   "execution_count": 136,
   "metadata": {},
   "outputs": [
    {
     "data": {
      "text/plain": [
       "5-element Array{Array{T,1} where T,1}:\n",
       " Any['a', 'c', 'b']\n",
       " Any['a', 'c', 'b']\n",
       " Any['a', 'c', 'b']\n",
       " Any['a']\n",
       " Any['b']"
      ]
     },
     "execution_count": 136,
     "metadata": {},
     "output_type": "execute_result"
    }
   ],
   "source": [
    "test_info = read_declaration_file(\"test_input.txt\")"
   ]
  },
  {
   "cell_type": "markdown",
   "metadata": {},
   "source": [
    "**Counting number of 'Yes' per group**\n",
    "\n",
    "Function"
   ]
  },
  {
   "cell_type": "code",
   "execution_count": 119,
   "metadata": {},
   "outputs": [
    {
     "data": {
      "text/plain": [
       "num_yes (generic function with 1 method)"
      ]
     },
     "execution_count": 119,
     "metadata": {},
     "output_type": "execute_result"
    }
   ],
   "source": [
    "num_yes(input_array) = size(input_array)[1]"
   ]
  },
  {
   "cell_type": "markdown",
   "metadata": {},
   "source": [
    "**Testing counting function**"
   ]
  },
  {
   "cell_type": "code",
   "execution_count": 132,
   "metadata": {},
   "outputs": [
    {
     "data": {
      "text/plain": [
       "5-element Array{Int64,1}:\n",
       " 3\n",
       " 3\n",
       " 3\n",
       " 1\n",
       " 1"
      ]
     },
     "execution_count": 132,
     "metadata": {},
     "output_type": "execute_result"
    }
   ],
   "source": [
    "test_counts_per_group = num_yes.(test_info)"
   ]
  },
  {
   "cell_type": "markdown",
   "metadata": {},
   "source": [
    "**Summing counts**"
   ]
  },
  {
   "cell_type": "code",
   "execution_count": 133,
   "metadata": {},
   "outputs": [
    {
     "data": {
      "text/plain": [
       "11"
      ]
     },
     "execution_count": 133,
     "metadata": {},
     "output_type": "execute_result"
    }
   ],
   "source": [
    "sum(test_counts_per_group)"
   ]
  },
  {
   "cell_type": "markdown",
   "metadata": {},
   "source": [
    "**Reading in full data**"
   ]
  },
  {
   "cell_type": "code",
   "execution_count": 137,
   "metadata": {},
   "outputs": [
    {
     "name": "stdout",
     "output_type": "stream",
     "text": [
      "done reading"
     ]
    }
   ],
   "source": [
    "all_info = read_declaration_file(\"input.txt\")\n",
    "print(\"done reading\")"
   ]
  },
  {
   "cell_type": "markdown",
   "metadata": {},
   "source": [
    "Counting \"Yes\"s"
   ]
  },
  {
   "cell_type": "code",
   "execution_count": null,
   "metadata": {},
   "outputs": [],
   "source": [
    "counts_per_group = num_yes.(all_info)"
   ]
  },
  {
   "cell_type": "markdown",
   "metadata": {},
   "source": [
    "Summing"
   ]
  },
  {
   "cell_type": "code",
   "execution_count": 135,
   "metadata": {},
   "outputs": [
    {
     "data": {
      "text/plain": [
       "6930"
      ]
     },
     "execution_count": 135,
     "metadata": {},
     "output_type": "execute_result"
    }
   ],
   "source": [
    "sum(counts_per_group)"
   ]
  },
  {
   "cell_type": "markdown",
   "metadata": {},
   "source": [
    "**Part 2**"
   ]
  },
  {
   "cell_type": "code",
   "execution_count": 156,
   "metadata": {},
   "outputs": [
    {
     "data": {
      "text/plain": [
       "read_declaration_file_correct (generic function with 1 method)"
      ]
     },
     "execution_count": 156,
     "metadata": {},
     "output_type": "execute_result"
    }
   ],
   "source": [
    "function read_declaration_file_correct(filename)\n",
    "    \n",
    "    lines = open(filename) do f\n",
    "        readlines(f)\n",
    "    end\n",
    "    \n",
    "    #group_num = 0\n",
    "    line_num = 1\n",
    "    all_info = Vector{Vector}()\n",
    "\n",
    "    while line_num <= size(lines)[1]\n",
    "        #group_num += 1\n",
    "        this_group_set = Set()\n",
    "        if (line_num <=  size(lines)[1]) && (lines[line_num] != \"\")\n",
    "           this_group_set = Set(lines[line_num]) \n",
    "        end\n",
    "        \n",
    "        #println(this_group_set)\n",
    "        while (line_num <=  size(lines)[1]) && (lines[line_num] != \"\")\n",
    "            letters = Set(lines[line_num])\n",
    "            this_group_set = intersect(this_group_set, letters)\n",
    "            line_num += 1\n",
    "        end\n",
    "        #all_info[group_num] = this_group_set\n",
    "        push!(all_info, collect(this_group_set))\n",
    "        line_num += 1\n",
    "    end\n",
    "    return all_info\n",
    "end"
   ]
  },
  {
   "cell_type": "code",
   "execution_count": 158,
   "metadata": {},
   "outputs": [
    {
     "data": {
      "text/plain": [
       "5-element Array{Array{T,1} where T,1}:\n",
       " ['a', 'c', 'b']\n",
       " Char[]\n",
       " ['a']\n",
       " ['a']\n",
       " ['b']"
      ]
     },
     "execution_count": 158,
     "metadata": {},
     "output_type": "execute_result"
    }
   ],
   "source": [
    "test_info_corrected = read_declaration_file_correct(\"test_input.txt\")"
   ]
  },
  {
   "cell_type": "code",
   "execution_count": 160,
   "metadata": {},
   "outputs": [
    {
     "data": {
      "text/plain": [
       "5-element Array{Int64,1}:\n",
       " 3\n",
       " 0\n",
       " 1\n",
       " 1\n",
       " 1"
      ]
     },
     "execution_count": 160,
     "metadata": {},
     "output_type": "execute_result"
    }
   ],
   "source": [
    "num_yes.(test_info_corrected)"
   ]
  },
  {
   "cell_type": "code",
   "execution_count": 161,
   "metadata": {},
   "outputs": [
    {
     "data": {
      "text/plain": [
       "500-element Array{Int64,1}:\n",
       "  6\n",
       "  7\n",
       "  1\n",
       "  8\n",
       " 12\n",
       "  5\n",
       "  6\n",
       " 15\n",
       "  9\n",
       "  8\n",
       " 13\n",
       " 23\n",
       " 10\n",
       "  ⋮\n",
       " 17\n",
       "  8\n",
       " 14\n",
       "  8\n",
       "  9\n",
       " 20\n",
       "  0\n",
       "  2\n",
       "  9\n",
       "  7\n",
       "  3\n",
       " 23"
      ]
     },
     "execution_count": 161,
     "metadata": {},
     "output_type": "execute_result"
    }
   ],
   "source": [
    "all_info_corrected = read_declaration_file_correct(\"input.txt\")\n",
    "yes_counts_corrected = num_yes.(all_info_corrected)"
   ]
  },
  {
   "cell_type": "code",
   "execution_count": 162,
   "metadata": {},
   "outputs": [
    {
     "data": {
      "text/plain": [
       "3585"
      ]
     },
     "execution_count": 162,
     "metadata": {},
     "output_type": "execute_result"
    }
   ],
   "source": [
    "sum(yes_counts_corrected)"
   ]
  }
 ],
 "metadata": {
  "kernelspec": {
   "display_name": "Julia 1.5.3",
   "language": "julia",
   "name": "julia-1.5"
  },
  "language_info": {
   "file_extension": ".jl",
   "mimetype": "application/julia",
   "name": "julia",
   "version": "1.5.3"
  }
 },
 "nbformat": 4,
 "nbformat_minor": 4
}
