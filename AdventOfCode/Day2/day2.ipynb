{
 "cells": [
  {
   "cell_type": "markdown",
   "metadata": {},
   "source": [
    "**Packages**"
   ]
  },
  {
   "cell_type": "code",
   "execution_count": 11,
   "metadata": {},
   "outputs": [
    {
     "data": {
      "text/plain": [
       "'C:\\\\Users\\\\mogde\\\\Desktop\\\\Git Repositories\\\\Personal_Projects\\\\AdventOfCode\\\\Day2'"
      ]
     },
     "execution_count": 11,
     "metadata": {},
     "output_type": "execute_result"
    }
   ],
   "source": [
    "import os\n",
    "import re\n",
    "\n",
    "os.chdir('C:\\\\Users\\\\mogde\\\\Desktop\\\\Git Repositories\\\\Personal_Projects\\\\AdventOfCode\\\\Day2')\n",
    "os.getcwd()"
   ]
  },
  {
   "cell_type": "markdown",
   "metadata": {},
   "source": [
    "**Reading in Data**"
   ]
  },
  {
   "cell_type": "code",
   "execution_count": 9,
   "metadata": {},
   "outputs": [],
   "source": [
    "with open('input.txt', 'r') as f:\n",
    "    lines = [item.strip() for item in f.readlines()]"
   ]
  },
  {
   "cell_type": "markdown",
   "metadata": {},
   "source": [
    "**Processing Data**"
   ]
  },
  {
   "cell_type": "code",
   "execution_count": 22,
   "metadata": {},
   "outputs": [],
   "source": [
    "pass_list = []\n",
    "\n",
    "for item in lines:\n",
    "    match = re.search('(\\d+)-(\\d+) (\\w): (\\w+)', item).groups()\n",
    "    this_dict = {'min': int(match[0]), 'max': int(match[1]), 'letter': match[2], 'password': match[3]}\n",
    "    pass_list.append(this_dict)"
   ]
  },
  {
   "cell_type": "markdown",
   "metadata": {},
   "source": [
    "**Validity function for part 1**"
   ]
  },
  {
   "cell_type": "code",
   "execution_count": 48,
   "metadata": {},
   "outputs": [],
   "source": [
    "# part 1\n",
    "def password_is_valid1(pass_dict):\n",
    "    num_occurrences = pass_dict['password'].count(pass_dict['letter'])\n",
    "    if (num_occurrences >= pass_dict['min']) and (num_occurrences <= pass_dict['max']):\n",
    "        return 1\n",
    "    return 0"
   ]
  },
  {
   "cell_type": "markdown",
   "metadata": {},
   "source": [
    "**Answer for part 1**"
   ]
  },
  {
   "cell_type": "code",
   "execution_count": 60,
   "metadata": {},
   "outputs": [
    {
     "name": "stdout",
     "output_type": "stream",
     "text": [
      "Number of valid passwords in part 1: 519\n"
     ]
    }
   ],
   "source": [
    "validity_list1 = [password_is_valid1(pass_item) for pass_item in pass_list]\n",
    "print(\"Number of valid passwords in part 1:\", sum(validity_list1))"
   ]
  },
  {
   "cell_type": "markdown",
   "metadata": {},
   "source": [
    "**Validity function for part 2**"
   ]
  },
  {
   "cell_type": "code",
   "execution_count": 55,
   "metadata": {},
   "outputs": [],
   "source": [
    "# part 2\n",
    "def password_is_valid2(pass_dict):\n",
    "    first_char = pass_dict['password'][pass_dict['min'] - 1]\n",
    "    second_char = pass_dict['password'][pass_dict['max'] - 1]\n",
    "    \n",
    "    in_position_count = 0\n",
    "    if (first_char == pass_dict['letter']):\n",
    "        in_position_count += 1\n",
    "    if (second_char == pass_dict['letter']):\n",
    "        in_position_count += 1\n",
    "    \n",
    "    return 1 if in_position_count == 1 else 0\n",
    "        "
   ]
  },
  {
   "cell_type": "code",
   "execution_count": 53,
   "metadata": {},
   "outputs": [],
   "source": [
    "test_dict1 = {'min': 1, 'max': 3, 'letter': 'a', 'password': 'abcde'}\n",
    "test_dict2 = {'min': 1, 'max': 3, 'letter': 'b', 'password': 'cdefg'}\n",
    "test_dict3 = {'min': 2, 'max': 9, 'letter': 'c', 'password': 'ccccccccc'}"
   ]
  },
  {
   "cell_type": "code",
   "execution_count": 61,
   "metadata": {},
   "outputs": [
    {
     "name": "stdout",
     "output_type": "stream",
     "text": [
      "Number of valid passwords in part 2: 708\n"
     ]
    }
   ],
   "source": [
    "validity_list2 = [password_is_valid2(pass_item) for pass_item in pass_list]\n",
    "print(\"Number of valid passwords in part 2:\", sum(validity_list2))"
   ]
  }
 ],
 "metadata": {
  "kernelspec": {
   "display_name": "Python 3",
   "language": "python",
   "name": "python3"
  },
  "language_info": {
   "codemirror_mode": {
    "name": "ipython",
    "version": 3
   },
   "file_extension": ".py",
   "mimetype": "text/x-python",
   "name": "python",
   "nbconvert_exporter": "python",
   "pygments_lexer": "ipython3",
   "version": "3.7.1"
  }
 },
 "nbformat": 4,
 "nbformat_minor": 4
}
