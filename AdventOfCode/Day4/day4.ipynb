{
 "cells": [
  {
   "cell_type": "markdown",
   "metadata": {},
   "source": [
    "**Packages**"
   ]
  },
  {
   "cell_type": "code",
   "execution_count": 1,
   "metadata": {},
   "outputs": [],
   "source": [
    "import re"
   ]
  },
  {
   "cell_type": "markdown",
   "metadata": {},
   "source": [
    "**Reading in the data**"
   ]
  },
  {
   "cell_type": "code",
   "execution_count": 2,
   "metadata": {},
   "outputs": [],
   "source": [
    "def read_passport_file(filename):\n",
    "    all_info = []\n",
    "\n",
    "    with open(filename, 'r') as f:\n",
    "        lines = f.readlines()\n",
    "        line_num = 0\n",
    "        while line_num < len(lines):\n",
    "            this_list = []\n",
    "            while (line_num < len(lines)) and (lines[line_num] != '\\n'):\n",
    "                pairs = lines[line_num].strip().split(' ')\n",
    "                processed_pairs = [(pair.split(':')[0], pair.split(':')[1]) for pair in pairs]\n",
    "                this_list += processed_pairs\n",
    "                line_num += 1\n",
    "            all_info.append(dict(this_list))\n",
    "            line_num += 1\n",
    "    return all_info"
   ]
  },
  {
   "cell_type": "code",
   "execution_count": 3,
   "metadata": {},
   "outputs": [],
   "source": [
    "passport_info = read_passport_file('input_day4.txt')"
   ]
  },
  {
   "cell_type": "markdown",
   "metadata": {},
   "source": [
    "**Checking validity**"
   ]
  },
  {
   "cell_type": "code",
   "execution_count": 3,
   "metadata": {},
   "outputs": [],
   "source": [
    "def has_necessary_fields(passport_dict):\n",
    "    key_set = set(passport_dict.keys())\n",
    "    if (len(key_set) == 8): # all 8 fields are present\n",
    "        return True\n",
    "    set_no_cid = key_set - {'cid'}\n",
    "    \n",
    "    # now that we know cid isn't in there (we don't care if it is or isn't),\n",
    "    # we can check if there are still 7 fields\n",
    "    \n",
    "    if (len(set_no_cid) == 7): \n",
    "        return True\n",
    "    \n",
    "    return False"
   ]
  },
  {
   "cell_type": "markdown",
   "metadata": {},
   "source": [
    "Test example:"
   ]
  },
  {
   "cell_type": "code",
   "execution_count": 4,
   "metadata": {},
   "outputs": [],
   "source": [
    "test_info = read_passport_file('day4_test.txt')"
   ]
  },
  {
   "cell_type": "code",
   "execution_count": 5,
   "metadata": {},
   "outputs": [
    {
     "data": {
      "text/plain": [
       "[True, False, True, False]"
      ]
     },
     "execution_count": 5,
     "metadata": {},
     "output_type": "execute_result"
    }
   ],
   "source": [
    "[has_necessary_fields(passport) for passport in test_info]"
   ]
  },
  {
   "cell_type": "markdown",
   "metadata": {},
   "source": [
    "**Answer to part 1**"
   ]
  },
  {
   "cell_type": "code",
   "execution_count": 6,
   "metadata": {},
   "outputs": [],
   "source": [
    "valid_list = [has_necessary_fields(passport) for passport in passport_info]"
   ]
  },
  {
   "cell_type": "code",
   "execution_count": 7,
   "metadata": {},
   "outputs": [
    {
     "data": {
      "text/plain": [
       "219"
      ]
     },
     "execution_count": 7,
     "metadata": {},
     "output_type": "execute_result"
    }
   ],
   "source": [
    "sum(valid_list)"
   ]
  },
  {
   "cell_type": "markdown",
   "metadata": {},
   "source": [
    "**Checking data validity**"
   ]
  },
  {
   "cell_type": "code",
   "execution_count": 8,
   "metadata": {},
   "outputs": [],
   "source": [
    "def is_valid(passport_dict):\n",
    "    if not has_necessary_fields(passport_dict): # if it doesn't have all the necessary fields\n",
    "        return False # then it isn't valid\n",
    "    return byr_correct(passport_dict['byr']) and iyr_correct(passport_dict['iyr']) and eyr_correct(passport_dict['eyr']) and hgt_correct(passport_dict['hgt']) and hcl_correct(passport_dict['hcl']) and ecl_correct(passport_dict['ecl']) and pid_correct(passport_dict['pid'])"
   ]
  },
  {
   "cell_type": "code",
   "execution_count": 19,
   "metadata": {},
   "outputs": [],
   "source": [
    "def byr_correct(byr):\n",
    "    # byr (Birth Year) - four digits; at least 1920 and at most 2002.\n",
    "    byr = int(byr)\n",
    "    return (byr >= 1920) and (byr <= 2002)\n",
    "\n",
    "def iyr_correct(iyr):\n",
    "    # iyr (Issue Year) - four digits; at least 2010 and at most 2020.\n",
    "    iyr = int(iyr)\n",
    "    return (iyr >= 2010) and (iyr <= 2020)\n",
    "\n",
    "def eyr_correct(eyr):\n",
    "    # (Expiration Year) - four digits; at least 2020 and at most 2030.\n",
    "    eyr = int(eyr)\n",
    "    return (eyr >= 2020) and (eyr <= 2030)\n",
    "\n",
    "def hgt_correct(hgt):\n",
    "    # (Height) - a number followed by either cm or in:\n",
    "        # If cm, the number must be at least 150 and at most 193.\n",
    "        # If in, the number must be at least 59 and at most 76.\n",
    "    if hgt[-2:] == 'cm':\n",
    "        num = int(hgt[:-2])\n",
    "        return (num >= 150) and (num <= 193)\n",
    "    elif hgt[-2:] == 'in':\n",
    "        num = int(hgt[:-2])\n",
    "        return (num >= 59) and (num <= 76)\n",
    "    else:\n",
    "        return False\n",
    "\n",
    "def hcl_correct(hcl):\n",
    "    # (Hair Color) - a # followed by exactly six characters 0-9 or a-f.\n",
    "    if (len(hcl) != 7):\n",
    "        return False\n",
    "    return True if re.match('^(#[a-f\\d]{6})$', hcl) else False\n",
    "\n",
    "def ecl_correct(ecl):\n",
    "    # (Eye Color) - exactly one of: amb blu brn gry grn hzl oth.\n",
    "    ecl_set = {'amb', 'blu', 'brn', 'gry', 'grn', 'hzl', 'oth'}\n",
    "    return (ecl in ecl_set)\n",
    "\n",
    "def pid_correct(pid):\n",
    "    # (Passport ID) - a nine-digit number, including leading zeroes.\n",
    "    if len(pid) != 9:\n",
    "        return False\n",
    "    return True if re.match('^(\\d{9})$', pid) else False"
   ]
  },
  {
   "cell_type": "markdown",
   "metadata": {},
   "source": [
    "**Invidivual Test cases**"
   ]
  },
  {
   "cell_type": "code",
   "execution_count": 26,
   "metadata": {},
   "outputs": [
    {
     "name": "stdout",
     "output_type": "stream",
     "text": [
      "Test Case 1: byr. Passed: True\n",
      "Test Case 2: byr. Passed: True\n",
      "Test Case 3: hgt. Passed: True\n",
      "Test Case 4: hgt. Passed: True\n",
      "Test Case 5: hgt. Passed: True\n",
      "Test Case 6: hgt. Passed: True\n",
      "Test Case 7: hcl. Passed: True\n",
      "Test Case 8: hcl. Passed: True\n",
      "Test Case 9: hcl. Passed: True\n",
      "Test Case 10: ecl. Passed: True\n",
      "Test Case 11: ecl. Passed: True\n",
      "Test Case 12: pid. Passed: True\n",
      "Test Case 13: pid. Passed: True\n"
     ]
    }
   ],
   "source": [
    "print(\"Test Case 1: byr. Passed:\", True == byr_correct(\"2002\"))\n",
    "print(\"Test Case 2: byr. Passed:\", False == byr_correct(\"2003\"))\n",
    "\n",
    "print(\"Test Case 3: hgt. Passed:\", True == hgt_correct(\"60in\"))\n",
    "print(\"Test Case 4: hgt. Passed:\", True == hgt_correct(\"190cm\"))\n",
    "print(\"Test Case 5: hgt. Passed:\", False == hgt_correct(\"190in\"))\n",
    "print(\"Test Case 6: hgt. Passed:\", False == hgt_correct(\"190\"))\n",
    "\n",
    "print(\"Test Case 7: hcl. Passed:\", True == hcl_correct(\"#123abc\"))\n",
    "print(\"Test Case 8: hcl. Passed:\", False == hcl_correct(\"#123abz\"))\n",
    "print(\"Test Case 9: hcl. Passed:\", False == hcl_correct(\"123abc\"))\n",
    "\n",
    "print(\"Test Case 10: ecl. Passed:\", True == ecl_correct(\"brn\"))\n",
    "print(\"Test Case 11: ecl. Passed:\", False == ecl_correct(\"wat\"))\n",
    "\n",
    "print(\"Test Case 12: pid. Passed:\", True == pid_correct(\"000000001\"))\n",
    "print(\"Test Case 13: pid. Passed:\", False == pid_correct(\"0123456789\"))"
   ]
  },
  {
   "cell_type": "markdown",
   "metadata": {},
   "source": [
    "**Passport test cases**"
   ]
  },
  {
   "cell_type": "code",
   "execution_count": 31,
   "metadata": {},
   "outputs": [
    {
     "data": {
      "text/plain": [
       "[False, False, False, False, True, True, True, True]"
      ]
     },
     "execution_count": 31,
     "metadata": {},
     "output_type": "execute_result"
    }
   ],
   "source": [
    "test_info2 = read_passport_file('day4_test2.txt')\n",
    "\n",
    "true_labels = [False] * 4 + [True] * 4\n",
    "true_labels"
   ]
  },
  {
   "cell_type": "code",
   "execution_count": 29,
   "metadata": {},
   "outputs": [
    {
     "data": {
      "text/plain": [
       "[True, True, True, True, True, True, True, True]"
      ]
     },
     "execution_count": 29,
     "metadata": {},
     "output_type": "execute_result"
    }
   ],
   "source": [
    "[has_necessary_fields(passport) for passport in test_info2]"
   ]
  },
  {
   "cell_type": "code",
   "execution_count": 32,
   "metadata": {},
   "outputs": [
    {
     "data": {
      "text/plain": [
       "[False, False, False, False, True, True, True, True]"
      ]
     },
     "execution_count": 32,
     "metadata": {},
     "output_type": "execute_result"
    }
   ],
   "source": [
    "[is_valid(passport) for passport in test_info2]"
   ]
  },
  {
   "cell_type": "markdown",
   "metadata": {},
   "source": [
    "**Answer to Part 2**"
   ]
  },
  {
   "cell_type": "code",
   "execution_count": 33,
   "metadata": {},
   "outputs": [],
   "source": [
    "valid_list2 = [is_valid(passport) for passport in passport_info]"
   ]
  },
  {
   "cell_type": "code",
   "execution_count": 34,
   "metadata": {},
   "outputs": [
    {
     "data": {
      "text/plain": [
       "127"
      ]
     },
     "execution_count": 34,
     "metadata": {},
     "output_type": "execute_result"
    }
   ],
   "source": [
    "sum(valid_list2)"
   ]
  }
 ],
 "metadata": {
  "environment": {
   "name": "tf2-2-3-gpu.2-3.m58",
   "type": "gcloud",
   "uri": "gcr.io/deeplearning-platform-release/tf2-2-3-gpu.2-3:m58"
  },
  "kernelspec": {
   "display_name": "Python 3",
   "language": "python",
   "name": "python3"
  },
  "language_info": {
   "codemirror_mode": {
    "name": "ipython",
    "version": 3
   },
   "file_extension": ".py",
   "mimetype": "text/x-python",
   "name": "python",
   "nbconvert_exporter": "python",
   "pygments_lexer": "ipython3",
   "version": "3.7.1"
  }
 },
 "nbformat": 4,
 "nbformat_minor": 4
}
