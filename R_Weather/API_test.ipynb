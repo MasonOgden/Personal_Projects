{
 "cells": [
  {
   "cell_type": "code",
   "execution_count": 1,
   "metadata": {},
   "outputs": [],
   "source": [
    "# Packages\n",
    "!pip install -q pandas\n",
    "!pip install -q pyowm\n",
    "!pip install -q nba_api\n",
    "!pip install -q plotly\n",
    "import pandas as pd\n",
    "import plotly.graph_objects as go\n",
    "import plotly.express as px"
   ]
  },
  {
   "cell_type": "code",
   "execution_count": 2,
   "metadata": {},
   "outputs": [],
   "source": [
    "#API stuff\n",
    "from pyowm import OWM\n",
    "api_key = '033376a6c6d6c03f7b2cc22ab3ec24b4'\n",
    "owm = OWM(api_key)\n",
    "city_registry = owm.city_id_registry()\n",
    "slo_id = city_registry.ids_for('San Luis Obispo')[0][0]\n",
    "slo_obs = owm.weather_at_id(slo_id)\n",
    "slo_current = slo_obs.get_weather()"
   ]
  },
  {
   "cell_type": "code",
   "execution_count": 15,
   "metadata": {},
   "outputs": [
    {
     "data": {
      "text/plain": [
       "{'temp': 46.54, 'temp_max': 55.99, 'temp_min': 32.0, 'temp_kf': None}"
      ]
     },
     "execution_count": 15,
     "metadata": {},
     "output_type": "execute_result"
    }
   ],
   "source": [
    "slo_current.get_temperature(unit='fahrenheit')"
   ]
  },
  {
   "cell_type": "code",
   "execution_count": 20,
   "metadata": {},
   "outputs": [
    {
     "data": {
      "text/plain": [
       "40"
      ]
     },
     "execution_count": 20,
     "metadata": {},
     "output_type": "execute_result"
    }
   ],
   "source": [
    "slo_three_hr_fc = owm.three_hours_forecast_at_id(slo_id)\n",
    "slo_3_hr = slo_three_hr_fc.get_forecast()"
   ]
  },
  {
   "cell_type": "code",
   "execution_count": 21,
   "metadata": {},
   "outputs": [
    {
     "name": "stdout",
     "output_type": "stream",
     "text": [
      "2020-02-11 18:00:00+00 Clear\n",
      "2020-02-11 21:00:00+00 Clear\n",
      "2020-02-12 00:00:00+00 Clear\n",
      "2020-02-12 03:00:00+00 Clear\n",
      "2020-02-12 06:00:00+00 Clear\n",
      "2020-02-12 09:00:00+00 Clear\n",
      "2020-02-12 12:00:00+00 Clear\n",
      "2020-02-12 15:00:00+00 Clouds\n",
      "2020-02-12 18:00:00+00 Clouds\n",
      "2020-02-12 21:00:00+00 Clouds\n",
      "2020-02-13 00:00:00+00 Clouds\n",
      "2020-02-13 03:00:00+00 Clear\n",
      "2020-02-13 06:00:00+00 Clouds\n",
      "2020-02-13 09:00:00+00 Clouds\n",
      "2020-02-13 12:00:00+00 Clouds\n",
      "2020-02-13 15:00:00+00 Clear\n",
      "2020-02-13 18:00:00+00 Clear\n",
      "2020-02-13 21:00:00+00 Clear\n",
      "2020-02-14 00:00:00+00 Clear\n",
      "2020-02-14 03:00:00+00 Clear\n",
      "2020-02-14 06:00:00+00 Clear\n",
      "2020-02-14 09:00:00+00 Clear\n",
      "2020-02-14 12:00:00+00 Clear\n",
      "2020-02-14 15:00:00+00 Clear\n",
      "2020-02-14 18:00:00+00 Clear\n",
      "2020-02-14 21:00:00+00 Clear\n",
      "2020-02-15 00:00:00+00 Clear\n",
      "2020-02-15 03:00:00+00 Clear\n",
      "2020-02-15 06:00:00+00 Clear\n",
      "2020-02-15 09:00:00+00 Clear\n",
      "2020-02-15 12:00:00+00 Clear\n",
      "2020-02-15 15:00:00+00 Clear\n",
      "2020-02-15 18:00:00+00 Clear\n",
      "2020-02-15 21:00:00+00 Clear\n",
      "2020-02-16 00:00:00+00 Clear\n",
      "2020-02-16 03:00:00+00 Clear\n",
      "2020-02-16 06:00:00+00 Clear\n",
      "2020-02-16 09:00:00+00 Clouds\n",
      "2020-02-16 12:00:00+00 Clouds\n",
      "2020-02-16 15:00:00+00 Clouds\n"
     ]
    }
   ],
   "source": [
    "for weather in slo_3_hr:\n",
    "    print (weather.get_reference_time('iso'),weather.get_status())"
   ]
  }
 ],
 "metadata": {
  "kernelspec": {
   "display_name": "Python 3",
   "language": "python",
   "name": "python3"
  },
  "language_info": {
   "codemirror_mode": {
    "name": "ipython",
    "version": 3
   },
   "file_extension": ".py",
   "mimetype": "text/x-python",
   "name": "python",
   "nbconvert_exporter": "python",
   "pygments_lexer": "ipython3",
   "version": "3.7.1"
  }
 },
 "nbformat": 4,
 "nbformat_minor": 2
}
